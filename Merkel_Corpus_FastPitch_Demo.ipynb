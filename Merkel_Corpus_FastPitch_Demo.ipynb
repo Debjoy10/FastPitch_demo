{
  "nbformat": 4,
  "nbformat_minor": 0,
  "metadata": {
    "colab": {
      "name": "Merkel_Corpus_FastPitch_Demo.ipynb",
      "provenance": [],
      "collapsed_sections": [],
      "authorship_tag": "ABX9TyMG+8L2beDUp2T36hyuQNNc",
      "include_colab_link": true
    },
    "kernelspec": {
      "name": "python3",
      "display_name": "Python 3"
    },
    "language_info": {
      "name": "python"
    },
    "accelerator": "GPU",
    "gpuClass": "standard"
  },
  "cells": [
    {
      "cell_type": "markdown",
      "metadata": {
        "id": "view-in-github",
        "colab_type": "text"
      },
      "source": [
        "<a href=\"https://colab.research.google.com/github/Debjoy10/FastPitch_demo/blob/main/Merkel_Corpus_FastPitch_Demo.ipynb\" target=\"_parent\"><img src=\"https://colab.research.google.com/assets/colab-badge.svg\" alt=\"Open In Colab\"/></a>"
      ]
    },
    {
      "cell_type": "markdown",
      "source": [
        "### **FastPitch 1.1 demo for Merkel Corpus**"
      ],
      "metadata": {
        "id": "6pnz-L9AJVOv"
      }
    },
    {
      "cell_type": "markdown",
      "source": [
        "#### Imports and Downloads"
      ],
      "metadata": {
        "id": "nWLqrROKLFwK"
      }
    },
    {
      "cell_type": "code",
      "source": [
        "!git clone https://github.com/deeplsd/FastPitch_demo.git\n",
        "!pip install git+https://github.com/NVIDIA/dllogger.git\n",
        "!pip install git+https://github.com/repodiac/german_transliterate\n",
        "\n",
        "# Imports\n",
        "import IPython\n",
        "import os\n",
        "os.makedirs('output')\n",
        "\n",
        "# Donwload pretrained models\n",
        "!gdown 1CKTcfAeDLcLnVuNQ2JKtPjrk6NGdXXp0\n",
        "!gdown 1jsydqkC0P8ztUkPT4e62fcR4GBRr2SxD\n",
        "fastp = 'FastPitch_checkpoint_1000.pt'\n",
        "waveg = 'checkpoint_WaveGlow_last.pt'"
      ],
      "metadata": {
        "colab": {
          "base_uri": "https://localhost:8080/"
        },
        "id": "NcsTui7L5v1A",
        "outputId": "93870fe3-9bd6-4d10-ec24-c8b86ba91d21"
      },
      "execution_count": null,
      "outputs": [
        {
          "output_type": "stream",
          "name": "stdout",
          "text": [
            "Cloning into 'FastPitch_demo'...\n",
            "remote: Enumerating objects: 198, done.\u001b[K\n",
            "remote: Counting objects: 100% (198/198), done.\u001b[K\n",
            "remote: Compressing objects: 100% (138/138), done.\u001b[K\n",
            "remote: Total 198 (delta 60), reused 194 (delta 59), pack-reused 0\u001b[K\n",
            "Receiving objects: 100% (198/198), 6.68 MiB | 20.85 MiB/s, done.\n",
            "Resolving deltas: 100% (60/60), done.\n",
            "Looking in indexes: https://pypi.org/simple, https://us-python.pkg.dev/colab-wheels/public/simple/\n",
            "Collecting git+https://github.com/NVIDIA/dllogger.git\n",
            "  Cloning https://github.com/NVIDIA/dllogger.git to /tmp/pip-req-build-z233vwsm\n",
            "  Running command git clone -q https://github.com/NVIDIA/dllogger.git /tmp/pip-req-build-z233vwsm\n",
            "Building wheels for collected packages: DLLogger\n",
            "  Building wheel for DLLogger (setup.py) ... \u001b[?25l\u001b[?25hdone\n",
            "  Created wheel for DLLogger: filename=DLLogger-1.0.0-py3-none-any.whl size=5670 sha256=b0fba452a110c7dd8148d0356b15651e85c3edb5b825c958a449f01e13e28311\n",
            "  Stored in directory: /tmp/pip-ephem-wheel-cache-0dkdaybz/wheels/db/ba/1b/87515aba93adffc7caccc21c0e93f80b70a857188790ce0436\n",
            "Successfully built DLLogger\n",
            "Installing collected packages: DLLogger\n",
            "Successfully installed DLLogger-1.0.0\n",
            "Looking in indexes: https://pypi.org/simple, https://us-python.pkg.dev/colab-wheels/public/simple/\n",
            "Collecting git+https://github.com/repodiac/german_transliterate\n",
            "  Cloning https://github.com/repodiac/german_transliterate to /tmp/pip-req-build-zxhqraja\n",
            "  Running command git clone -q https://github.com/repodiac/german_transliterate /tmp/pip-req-build-zxhqraja\n",
            "Collecting num2words\n",
            "  Downloading num2words-0.5.10-py3-none-any.whl (101 kB)\n",
            "\u001b[K     |████████████████████████████████| 101 kB 4.7 MB/s \n",
            "\u001b[?25hRequirement already satisfied: docopt>=0.6.2 in /usr/local/lib/python3.7/dist-packages (from num2words->german-transliterate==0.1.3) (0.6.2)\n",
            "Building wheels for collected packages: german-transliterate\n",
            "  Building wheel for german-transliterate (setup.py) ... \u001b[?25l\u001b[?25hdone\n",
            "  Created wheel for german-transliterate: filename=german_transliterate-0.1.3-py3-none-any.whl size=20829 sha256=9673c93eee7bae0a02121d27b5d186e33661805f5338e9c2fe5dc44af5927ee0\n",
            "  Stored in directory: /tmp/pip-ephem-wheel-cache-smotq1j0/wheels/67/99/62/1f618221d7d4275595cf736d3e2d587b64bf427571c9b9a84d\n",
            "Successfully built german-transliterate\n",
            "Installing collected packages: num2words, german-transliterate\n",
            "Successfully installed german-transliterate-0.1.3 num2words-0.5.10\n",
            "Downloading...\n",
            "From: https://drive.google.com/uc?id=1CKTcfAeDLcLnVuNQ2JKtPjrk6NGdXXp0\n",
            "To: /content/FastPitch_checkpoint_1000.pt\n",
            "100% 555M/555M [00:04<00:00, 113MB/s]\n",
            "Downloading...\n",
            "From: https://drive.google.com/uc?id=1jsydqkC0P8ztUkPT4e62fcR4GBRr2SxD\n",
            "To: /content/checkpoint_WaveGlow_last.pt\n",
            "100% 1.06G/1.06G [00:06<00:00, 166MB/s]\n"
          ]
        }
      ]
    },
    {
      "cell_type": "code",
      "source": [
        "# Set flags for FastPitch generation\n",
        "flags = f'--cuda --fastpitch {fastp} --waveglow {waveg} --wn-channels 256 --energy-conditioning --sampling-rate 16000 --text-cleaners german_phoneme_cleaners --symbol-set german_basic'"
      ],
      "metadata": {
        "id": "vMeDfxMZ6f8L"
      },
      "execution_count": null,
      "outputs": []
    },
    {
      "cell_type": "markdown",
      "source": [
        "#### Synthesize Audio"
      ],
      "metadata": {
        "id": "ieMjndWeUfZD"
      }
    },
    {
      "cell_type": "markdown",
      "source": [
        "**Input Text to synthesize (in German)**"
      ],
      "metadata": {
        "id": "GRAK8QgROG-X"
      }
    },
    {
      "cell_type": "code",
      "source": [
        "txt = \"und ich freue mich auch, dass viele wissenschaftler wieder zurückgekommen sind, weil wir stabile rahmenbedingungen für forschungsprojekte anbieten können an unseren außeruniversitären und universitären forschungseinrichtungen\""
      ],
      "metadata": {
        "id": "A_WbsRteLYNm"
      },
      "execution_count": null,
      "outputs": []
    },
    {
      "cell_type": "code",
      "source": [
        "# Write text to file\n",
        "with open(\"text.txt\", \"w\") as text_file:\n",
        "    text_file.write(txt)"
      ],
      "metadata": {
        "id": "I0uRT7VC7IMS"
      },
      "execution_count": null,
      "outputs": []
    },
    {
      "cell_type": "code",
      "source": [
        "# Generate Speech - May take upto 20s\n",
        "%%capture\n",
        "!python FastPitch_demo/inference.py {flags} -i text.txt -o output/original"
      ],
      "metadata": {
        "id": "MnX-xracVmfn"
      },
      "execution_count": null,
      "outputs": []
    },
    {
      "cell_type": "code",
      "source": [
        "print(\"Input Text > \\n{}\".format(txt))"
      ],
      "metadata": {
        "id": "XiWk6Y1eQbCR"
      },
      "execution_count": null,
      "outputs": []
    },
    {
      "cell_type": "code",
      "source": [
        "IPython.display.Audio(\"output/original/audio_0.wav\")"
      ],
      "metadata": {
        "id": "wh6pNgxA7npD"
      },
      "execution_count": null,
      "outputs": []
    },
    {
      "cell_type": "code",
      "source": [
        ""
      ],
      "metadata": {
        "id": "p44BCAQ-KV9Q"
      },
      "execution_count": null,
      "outputs": []
    }
  ]
}